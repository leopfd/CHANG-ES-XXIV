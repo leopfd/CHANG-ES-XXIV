{
 "cells": [
  {
   "cell_type": "code",
   "execution_count": 1,
   "metadata": {},
   "outputs": [
    {
     "name": "stdout",
     "output_type": "stream",
     "text": [
      "['NGC4594/1586/repro/1586_reproj_evt.fits', 'NGC4594/407/repro/407_reproj_evt.fits', 'NGC4594/9532/repro/9532_reproj_evt.fits', 'NGC4594/9533/repro/9533_reproj_evt.fits']\n",
      "['1586', '407', '9532', '9533']\n",
      "[18518.17509487, 1766.3764380596, 84914.523107418, 88968.896862404]\n"
     ]
    }
   ],
   "source": [
    "import os\n",
    "from ciao_contrib.runtool import *\n",
    "import glob\n",
    "import pycrates as pcr\n",
    "from paramio import *\n",
    "from crates_contrib.utils import *\n",
    "import numpy as np\n",
    "\n",
    "objList = sorted(glob.glob(\"NGC*\"))\n",
    "#print(objList)\n",
    "\n",
    "for obj in objList[20:21:]:\n",
    "    fileList = glob.glob(\"{}/*/repro/*reproj*\".format(obj))\n",
    "    print(fileList)\n",
    "    cr = pcr.read_file('{}/sources/merged_0.3-7_offaxs_src.fits'.format(obj))\n",
    "    obscount = len(fileList)\n",
    "    #print(obscount)\n",
    "    obsids = []\n",
    "    for file in fileList:\n",
    "        obsList = file.split('/')\n",
    "        obsids.append(obsList[1])\n",
    "    print(obsids)\n",
    "    exptimes = []\n",
    "    offaxscol = [[] for i in range(obscount)]\n",
    "    for j in range(obscount):\n",
    "        #finds exposure for x number of observations\n",
    "        exptimes.append(dmkeypar(fileList[j], keyword = 'LIVETIME', echo = 'yes'))\n",
    "        #gets the off-axis angles from file\n",
    "        offaxscol[j] = pcr.get_colvals(cr,'{}_OFFAXS_ANG'.format(obsids[j]))\n",
    "    print(exptimes)\n",
    "    #print(offaxscol[0])\n",
    "    weight = [[] for i in range(obscount)]\n",
    "    floexptime = []\n",
    "    for k in range(obscount):\n",
    "        #print(offaxscol[k])\n",
    "        #print(exptimes[k])\n",
    "        #calculates sum of exposure times by off-axis angles\n",
    "        weight[k] = np.array(offaxscol[k])*float(exptimes[k])\n",
    "        floexptime.append(float(exptimes[k]))\n",
    "        #print(avgsum)\n",
    "        #divides sum of exposure times*off-axis by angles sum of exposure times\n",
    "    #print(sum(intexptime))\n",
    "    weightavg = np.array(sum(weight))/(sum(floexptime))\n",
    "    #print(weightavg)\n",
    "    raerrcol = pcr.get_colvals(cr,'RA_ERR')*60\n",
    "    #print(raerrcol)\n",
    "    decerrcol = pcr.get_colvals(cr,'DEC_ERR')*60\n",
    "    #print(decerrcol)\n",
    "    newerr = np.sqrt(raerrcol**2 + decerrcol**2 + ((0.2/60) + ((1.4/60) * (weightavg/8)**2))**2)\n",
    "    #print(newerr)\n",
    "    wangerr = ((0.2/60) + ((1.4/60) * (weightavg/8)**2))\n",
    "    cr = make_table_crate(weightavg,wangerr,newerr,colnames=['WEIGHT_OFFAXS','WANG_ERR','POS_ERR'])\n",
    "    poserrcol = cr.get_column('POS_ERR')\n",
    "    weightoffaxs = cr.get_column('WEIGHT_OFFAXS')\n",
    "    wangcol = cr.get_column('WANG_ERR')\n",
    "    poserrcol.unit = 'arcmin'\n",
    "    weightoffaxs.unit = 'arcmin'\n",
    "    wangcol.unit = 'arcmin'\n",
    "    pcr.write_file(cr,\"{}/sources/newerr.fits\".format(obj),clobber=True)\n",
    "    dmpaste (infile=\"{}/sources/merged_0.3-7_offaxs_src.fits[SRCLIST]\".format(obj),pastefile=\"{}/sources/newerr.fits\".format(obj),outfile=\"{}/sources/merged_0.3-7_newerr_src.fits\".format(obj),clobber=True)"
   ]
  },
  {
   "cell_type": "code",
   "execution_count": 174,
   "metadata": {},
   "outputs": [
    {
     "name": "stdout",
     "output_type": "stream",
     "text": [
      "189722.6188176694\n"
     ]
    }
   ],
   "source": [
    "print((2.885764191027129*27698.409300435)+(2.432194250837314*5068.7356162665)+(2.796192931641599*1916.7743489704)+(2.640862066648127*9994.4323488192)+(2.886654130838732*22763.310169151))"
   ]
  },
  {
   "cell_type": "code",
   "execution_count": 176,
   "metadata": {},
   "outputs": [
    {
     "name": "stdout",
     "output_type": "stream",
     "text": [
      "2.813136773324384\n"
     ]
    }
   ],
   "source": [
    "print(189722.6188176694/(27698.409300435+5068.7356162665+1916.7743489704+9994.4323488192+22763.310169151))"
   ]
  },
  {
   "cell_type": "code",
   "execution_count": 184,
   "metadata": {
    "scrolled": true
   },
   "outputs": [
    {
     "name": "stdout",
     "output_type": "stream",
     "text": [
      "0.006218550496771328\n"
     ]
    }
   ],
   "source": [
    "print((0.2/60 + (1.4/60 * (2.813136773324384/8)**2)))"
   ]
  },
  {
   "cell_type": "code",
   "execution_count": 178,
   "metadata": {},
   "outputs": [
    {
     "name": "stdout",
     "output_type": "stream",
     "text": [
      "0.002210113237168798 0.002504031842143206\n"
     ]
    }
   ],
   "source": [
    "print(3.683522061947997e-05*60,4.17338640357201e-05*60)"
   ]
  },
  {
   "cell_type": "code",
   "execution_count": 179,
   "metadata": {},
   "outputs": [
    {
     "name": "stdout",
     "output_type": "stream",
     "text": [
      "0.0033398766425686804\n"
     ]
    }
   ],
   "source": [
    "print(np.sqrt(((3.683522061947997e-05*60)**2) + ((4.17338640357201e-05*60)**2)))"
   ]
  },
  {
   "cell_type": "code",
   "execution_count": 182,
   "metadata": {},
   "outputs": [
    {
     "name": "stdout",
     "output_type": "stream",
     "text": [
      "0.05790347647077079\n"
     ]
    }
   ],
   "source": [
    "print(np.sqrt((3.683522061947997e-05*60)**2 + (4.17338640357201e-05*60)**2 + (0.2/60 + (1.4/60 * (2.813136773324384/8)**2)**2)))"
   ]
  },
  {
   "cell_type": "code",
   "execution_count": null,
   "metadata": {},
   "outputs": [],
   "source": []
  }
 ],
 "metadata": {
  "kernelspec": {
   "display_name": "Python 3 (ipykernel)",
   "language": "python",
   "name": "python3"
  },
  "language_info": {
   "codemirror_mode": {
    "name": "ipython",
    "version": 3
   },
   "file_extension": ".py",
   "mimetype": "text/x-python",
   "name": "python",
   "nbconvert_exporter": "python",
   "pygments_lexer": "ipython3",
   "version": "3.11.5"
  }
 },
 "nbformat": 4,
 "nbformat_minor": 4
}
