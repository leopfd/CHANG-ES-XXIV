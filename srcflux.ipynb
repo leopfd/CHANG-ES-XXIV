{
 "cells": [
  {
   "cell_type": "code",
   "execution_count": 13,
   "metadata": {},
   "outputs": [
    {
     "name": "stdout",
     "output_type": "stream",
     "text": [
      "['NGC0891']\n",
      "RUNNING NGC0891\n"
     ]
    },
    {
     "ename": "OSError",
     "evalue": "An error occurred while running 'srcflux':\n  srcflux (02 November 2023)\n            infile = NGC0891/*/repro/*reproj*\n               pos = NGC0891/sources/merged_0.3-7_src.fits\n           outroot = /Users/leo/xray_research/spectral_modeling/srcflux_test/\n             bands = soft,medium,hard,broad\n           regions = optimized\n            srcreg = \n            bkgreg = \n           bkgresp = no\n         psfmethod = arfcorr\n           psffile = \n              conf = 0.9\n           binsize = 1\n           rmffile = \n           arffile = \n             model = xspowerlaw.pow1\n         paramvals = pow1.PhoIndex=2.0\n          absmodel = xsphabs.abs1\n         absparams = abs1.nH=%GAL%\n             abund = angr\n        pluginfile = \n           fovfile = \n          asolfile = \n           mskfile = \n          bpixfile = \n           dtffile = \n           ecffile = CALDB\n         marx_root = /Applications/soft/marx/marx-5.5.3\n          parallel = yes\n             nproc = INDEF\n            tmpdir = /var/folders/vd/qnx9n6l93rb__v127l9wyln40000gn/T/\n       random_seed = -1\n           clobber = yes\n           verbose = 1\n              mode = hl\n  \n  Processing OBI 001\n  Creating optimized source regions\n  Creating optimized background regions\n  # srcflux (02 November 2023): ERROR An error occurred while running 'bkg_fixed_counts':\n    bkg_fixed_counts\n              infile = NGC0891/14376/repro/14376_reproj_evt.fits[energy=500:7000]\n             outroot = /Users/leo/xray_research/spectral_modeling/srcflux_test/obi001_\n                 pos = /Users/leo/xray_research/spectral_modeling/srcflux_test/obi001_srcs.fits\n          min_counts = 50\n          src_region = /Users/leo/xray_research/spectral_modeling/srcflux_test/obi001__i*_src.reg\n             fovfile = /Users/leo/xray_research/spectral_modeling/srcflux_test/obi001_.fov\n          max_radius = INDEF\n           inner_ecf = 0.95\n              energy = 1\n             verbose = 1\n             clobber = yes\n                mode = hl\n    \n    Loading source positions\n    Convert coordinates\n    Getting PSF size for inner radius\n    Building excluded region expression\n    # bkg_fixed_counts (27 March 2023): ERROR list index out of range",
     "output_type": "error",
     "traceback": [
      "\u001b[0;31m---------------------------------------------------------------------------\u001b[0m",
      "\u001b[0;31mOSError\u001b[0m                                   Traceback (most recent call last)",
      "Cell \u001b[0;32mIn[13], line 30\u001b[0m\n\u001b[1;32m     27\u001b[0m srcflux\u001b[38;5;241m.\u001b[39mclobber\u001b[38;5;241m=\u001b[39m\u001b[38;5;124m\"\u001b[39m\u001b[38;5;124mTrue\u001b[39m\u001b[38;5;124m\"\u001b[39m\n\u001b[1;32m     28\u001b[0m \u001b[38;5;66;03m#print(srcflux)\u001b[39;00m\n\u001b[1;32m     29\u001b[0m \u001b[38;5;66;03m#srcflux(infile=\"{}/*/repro/*reproj*\".format(obj),pos=\"{}/sources/merged_0.3-7_src.fits\".format(obj),outroot=\"{}/sources/srcflux/src\".format(obj),regions='optimized')\u001b[39;00m\n\u001b[0;32m---> 30\u001b[0m \u001b[43msrcflux\u001b[49m\u001b[43m(\u001b[49m\u001b[43minfile\u001b[49m\u001b[38;5;241;43m=\u001b[39;49m\u001b[38;5;124;43m\"\u001b[39;49m\u001b[38;5;132;43;01m{}\u001b[39;49;00m\u001b[38;5;124;43m/*/repro/*reproj*\u001b[39;49m\u001b[38;5;124;43m\"\u001b[39;49m\u001b[38;5;241;43m.\u001b[39;49m\u001b[43mformat\u001b[49m\u001b[43m(\u001b[49m\u001b[43mobj\u001b[49m\u001b[43m)\u001b[49m\u001b[43m,\u001b[49m\u001b[43mpos\u001b[49m\u001b[38;5;241;43m=\u001b[39;49m\u001b[38;5;124;43m\"\u001b[39;49m\u001b[38;5;132;43;01m{}\u001b[39;49;00m\u001b[38;5;124;43m/sources/merged_0.3-7_src.fits\u001b[39;49m\u001b[38;5;124;43m\"\u001b[39;49m\u001b[38;5;241;43m.\u001b[39;49m\u001b[43mformat\u001b[49m\u001b[43m(\u001b[49m\u001b[43mobj\u001b[49m\u001b[43m)\u001b[49m\u001b[43m,\u001b[49m\u001b[43moutroot\u001b[49m\u001b[38;5;241;43m=\u001b[39;49m\u001b[38;5;124;43m\"\u001b[39;49m\u001b[38;5;124;43m/Users/leo/xray_research/spectral_modeling/srcflux_test/\u001b[39;49m\u001b[38;5;124;43m\"\u001b[39;49m\u001b[38;5;241;43m.\u001b[39;49m\u001b[43mformat\u001b[49m\u001b[43m(\u001b[49m\u001b[43mobj\u001b[49m\u001b[43m)\u001b[49m\u001b[43m)\u001b[49m\n\u001b[1;32m     31\u001b[0m \u001b[38;5;28mprint\u001b[39m(\u001b[38;5;124m\"\u001b[39m\u001b[38;5;124mFINISHED \u001b[39m\u001b[38;5;132;01m{}\u001b[39;00m\u001b[38;5;124m\"\u001b[39m\u001b[38;5;241m.\u001b[39mformat(obj))\n",
      "File \u001b[0;32m/Applications/ciao-4.16/lib/python3.11/site-packages/ciao_contrib/runtool.py:1863\u001b[0m, in \u001b[0;36mCIAOToolParFile.__call__\u001b[0;34m(self, *args, **kwargs)\u001b[0m\n\u001b[1;32m   1861\u001b[0m         sep \u001b[38;5;241m=\u001b[39m \u001b[38;5;124m\"\u001b[39m\u001b[38;5;130;01m\\n\u001b[39;00m\u001b[38;5;124m  \u001b[39m\u001b[38;5;124m\"\u001b[39m\n\u001b[1;32m   1862\u001b[0m         smsg \u001b[38;5;241m=\u001b[39m sep\u001b[38;5;241m.\u001b[39mjoin(sout\u001b[38;5;241m.\u001b[39mrstrip()\u001b[38;5;241m.\u001b[39msplit(\u001b[38;5;124m\"\u001b[39m\u001b[38;5;130;01m\\n\u001b[39;00m\u001b[38;5;124m\"\u001b[39m))\n\u001b[0;32m-> 1863\u001b[0m         \u001b[38;5;28;01mraise\u001b[39;00m \u001b[38;5;167;01mIOError\u001b[39;00m(\u001b[38;5;124mf\u001b[39m\u001b[38;5;124m\"\u001b[39m\u001b[38;5;124mAn error occurred while running \u001b[39m\u001b[38;5;124m'\u001b[39m\u001b[38;5;132;01m{\u001b[39;00m\u001b[38;5;28mself\u001b[39m\u001b[38;5;241m.\u001b[39m_toolname\u001b[38;5;132;01m}\u001b[39;00m\u001b[38;5;124m'\u001b[39m\u001b[38;5;124m:\u001b[39m\u001b[38;5;132;01m{\u001b[39;00msep\u001b[38;5;132;01m}\u001b[39;00m\u001b[38;5;132;01m{\u001b[39;00msmsg\u001b[38;5;132;01m}\u001b[39;00m\u001b[38;5;124m\"\u001b[39m)\n\u001b[1;32m   1865\u001b[0m \u001b[38;5;28;01mfinally\u001b[39;00m:\n\u001b[1;32m   1866\u001b[0m     \u001b[38;5;28;01mfor\u001b[39;00m v \u001b[38;5;129;01min\u001b[39;00m stackfiles\u001b[38;5;241m.\u001b[39mvalues():\n",
      "\u001b[0;31mOSError\u001b[0m: An error occurred while running 'srcflux':\n  srcflux (02 November 2023)\n            infile = NGC0891/*/repro/*reproj*\n               pos = NGC0891/sources/merged_0.3-7_src.fits\n           outroot = /Users/leo/xray_research/spectral_modeling/srcflux_test/\n             bands = soft,medium,hard,broad\n           regions = optimized\n            srcreg = \n            bkgreg = \n           bkgresp = no\n         psfmethod = arfcorr\n           psffile = \n              conf = 0.9\n           binsize = 1\n           rmffile = \n           arffile = \n             model = xspowerlaw.pow1\n         paramvals = pow1.PhoIndex=2.0\n          absmodel = xsphabs.abs1\n         absparams = abs1.nH=%GAL%\n             abund = angr\n        pluginfile = \n           fovfile = \n          asolfile = \n           mskfile = \n          bpixfile = \n           dtffile = \n           ecffile = CALDB\n         marx_root = /Applications/soft/marx/marx-5.5.3\n          parallel = yes\n             nproc = INDEF\n            tmpdir = /var/folders/vd/qnx9n6l93rb__v127l9wyln40000gn/T/\n       random_seed = -1\n           clobber = yes\n           verbose = 1\n              mode = hl\n  \n  Processing OBI 001\n  Creating optimized source regions\n  Creating optimized background regions\n  # srcflux (02 November 2023): ERROR An error occurred while running 'bkg_fixed_counts':\n    bkg_fixed_counts\n              infile = NGC0891/14376/repro/14376_reproj_evt.fits[energy=500:7000]\n             outroot = /Users/leo/xray_research/spectral_modeling/srcflux_test/obi001_\n                 pos = /Users/leo/xray_research/spectral_modeling/srcflux_test/obi001_srcs.fits\n          min_counts = 50\n          src_region = /Users/leo/xray_research/spectral_modeling/srcflux_test/obi001__i*_src.reg\n             fovfile = /Users/leo/xray_research/spectral_modeling/srcflux_test/obi001_.fov\n          max_radius = INDEF\n           inner_ecf = 0.95\n              energy = 1\n             verbose = 1\n             clobber = yes\n                mode = hl\n    \n    Loading source positions\n    Convert coordinates\n    Getting PSF size for inner radius\n    Building excluded region expression\n    # bkg_fixed_counts (27 March 2023): ERROR list index out of range"
     ]
    }
   ],
   "source": [
    "import os\n",
    "from ciao_contrib.runtool import *\n",
    "import glob\n",
    "import pycrates as pcr\n",
    "from paramio import *\n",
    "from crates_contrib.utils import *\n",
    "import numpy as np\n",
    "\n",
    "verbose=2\n",
    "os.chdir('/Users/leo/xray_research/changes_data_2020')\n",
    "objList = sorted(glob.glob(\"NGC0891\"))\n",
    "print(objList)\n",
    "\n",
    "\n",
    "for obj in objList[::]:\n",
    "    print(\"RUNNING {}\".format(obj))\n",
    "    fileList = glob.glob('{}/*/repro/*reproj*'.format(obj))\n",
    "    #print(fileList)\n",
    "    #infiles=str(fileList).strip('[]')\n",
    "    #print(infiles)\n",
    "    srcflux.punlearn\n",
    "    #srcflux.regions='optimized'\n",
    "    srcflux.bands=\"soft,medium,hard,broad\"\n",
    "    srcflux.bkgresp=\"False\"\n",
    "    srcflux.psfmethod=\"arfcorr\"\n",
    "    #srcflux.marx_root='/Applications/soft/marx/marx-5.5.3'\n",
    "    srcflux.clobber=\"True\"\n",
    "    #print(srcflux)\n",
    "    #srcflux(infile=\"{}/*/repro/*reproj*\".format(obj),pos=\"{}/sources/merged_0.3-7_src.fits\".format(obj),outroot=\"{}/sources/srcflux/src\".format(obj),regions='optimized')\n",
    "    srcflux(infile=\"{}/*/repro/*reproj*\".format(obj),pos=\"{}/sources/merged_0.3-7_src.fits\".format(obj),outroot=\"/Users/leo/xray_research/spectral_modeling/srcflux_test/\".format(obj))\n",
    "    print(\"FINISHED {}\".format(obj))"
   ]
  },
  {
   "cell_type": "code",
   "execution_count": null,
   "metadata": {},
   "outputs": [],
   "source": []
  },
  {
   "cell_type": "code",
   "execution_count": null,
   "metadata": {},
   "outputs": [],
   "source": []
  }
 ],
 "metadata": {
  "kernelspec": {
   "display_name": "Python 3 (ipykernel)",
   "language": "python",
   "name": "python3"
  },
  "language_info": {
   "codemirror_mode": {
    "name": "ipython",
    "version": 3
   },
   "file_extension": ".py",
   "mimetype": "text/x-python",
   "name": "python",
   "nbconvert_exporter": "python",
   "pygments_lexer": "ipython3",
   "version": "3.11.5"
  }
 },
 "nbformat": 4,
 "nbformat_minor": 4
}
