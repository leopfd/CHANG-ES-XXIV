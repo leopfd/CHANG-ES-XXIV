{
 "cells": [
  {
   "cell_type": "code",
   "execution_count": 3,
   "metadata": {
    "scrolled": true
   },
   "outputs": [
    {
     "name": "stdout",
     "output_type": "stream",
     "text": [
      "15333, TIMED & VFAINT & 1024 \\\\\n",
      "15587, TIMED & VFAINT & 1024 \\\\\n",
      "1633, TIMED & FAINT & 1024 \\\\\n",
      "18352, TIMED & FAINT & 1024 \\\\\n",
      "4010, TIMED & FAINT & 1024 \\\\\n",
      "14376, TIMED & FAINT & 128 \\\\\n",
      "19297, TIMED & VFAINT & 1024 \\\\\n",
      "4613, TIMED & VFAINT & 1024 \\\\\n",
      "794, TIMED & VFAINT & 1024 \\\\\n",
      "11311, TIMED & FAINT & 1024 \\\\\n",
      "1636, TIMED & FAINT & 1024 \\\\\n",
      "3956, TIMED & FAINT & 1024 \\\\\n",
      "3956, TIMED & FAINT & 1024 \\\\\n",
      "19307, TIMED & FAINT & 1024 \\\\\n",
      "2038, TIMED & FAINT & 1024 \\\\\n",
      "20947, TIMED & FAINT & 1024 \\\\\n",
      "7091, TIMED & FAINT & 1024 \\\\\n",
      "19360, TIMED & FAINT & 1024 \\\\\n",
      "2025, TIMED & FAINT & 1024 \\\\\n",
      "2039, TIMED & FAINT & 1024 \\\\\n",
      "395, TIMED & FAINT & 1024 \\\\\n",
      "1971, TIMED & FAINT & 1024 \\\\\n",
      "1972, TIMED & FAINT & 1024 \\\\\n",
      "767, TIMED & FAINT & 1024 \\\\\n",
      "768, TIMED & FAINT & 1024 \\\\\n",
      "952, TIMED & FAINT & 1024 \\\\\n",
      "4013, TIMED & FAINT & 1024 \\\\\n",
      "4739, TIMED & FAINT & 1024 \\\\\n",
      "19345, TIMED & FAINT & 1024 \\\\\n",
      "7103, TIMED & FAINT & 1024 \\\\\n",
      "11310, TIMED & FAINT & 1024 \\\\\n",
      "19390, TIMED & VFAINT & 1024 \\\\\n",
      "4738, TIMED & FAINT & 1024 \\\\\n",
      "942, TIMED & VFAINT & 1024 \\\\\n",
      "19392, TIMED & VFAINT & 1024 \\\\\n",
      "19397, TIMED & VFAINT & 1024 \\\\\n",
      "12291, TIMED & VFAINT & 1024 \\\\\n",
      "1619, TIMED & VFAINT & 1024 \\\\\n",
      "2883, TIMED & VFAINT & 1024 \\\\\n",
      "8042, TIMED & FAINT & 1024 \\\\\n",
      "3950, TIMED & VFAINT & 1024 \\\\\n",
      "404, TIMED & FAINT & 512 \\\\\n",
      "1586, TIMED & FAINT & 1024 \\\\\n",
      "407, TIMED & FAINT & 128 \\\\\n",
      "9532, TIMED & VFAINT & 1024 \\\\\n",
      "9533, TIMED & VFAINT & 1024 \\\\\n",
      "797, TIMED & VFAINT & 1024 \\\\\n",
      "4018, TIMED & FAINT & 1024 \\\\\n",
      "12173, TIMED & VFAINT & 1024 \\\\\n",
      "19370, TIMED & FAINT & 1024 \\\\\n",
      "2940, TIMED & FAINT & 1024 \\\\\n",
      "12987, TIMED & FAINT & 256 \\\\\n",
      "14391, TIMED & FAINT & 256 \\\\\n",
      "20830, TIMED & VFAINT & 1024 \\\\\n",
      "20994, TIMED & VFAINT & 1024 \\\\\n",
      "20995, TIMED & VFAINT & 1024 \\\\\n"
     ]
    }
   ],
   "source": [
    "import glob\n",
    "import os\n",
    "from astropy import units as u\n",
    "from astropy.coordinates import SkyCoord\n",
    "from ciao_contrib.runtool import *\n",
    "\n",
    "\n",
    "fileList = sorted(glob.glob(\"*/*/*/*evt2.fits\"))\n",
    "#print(fileList)\n",
    "\n",
    "for file in fileList:\n",
    "    READMODE = dmkeypar(file, keyword = 'READMODE', echo = 'yes')\n",
    "    DATAMODE = dmkeypar(file, keyword = 'DATAMODE', echo = 'yes')\n",
    "    NROWS = dmkeypar(file, keyword = 'NROWS', echo = 'yes')\n",
    "    OBS_ID = dmkeypar(file, keyword = 'OBS_ID', echo = 'yes')\n",
    "    string = OBS_ID + ', ' + READMODE + ' & ' + DATAMODE + ' & ' + NROWS + ' \\\\' + '\\\\'\n",
    "    print(string)"
   ]
  },
  {
   "cell_type": "code",
   "execution_count": 62,
   "metadata": {},
   "outputs": [
    {
     "data": {
      "text/plain": [
       "'/Users/leo/Wang_Data'"
      ]
     },
     "execution_count": 62,
     "metadata": {},
     "output_type": "execute_result"
    }
   ],
   "source": [
    "pwd"
   ]
  },
  {
   "cell_type": "code",
   "execution_count": null,
   "metadata": {},
   "outputs": [],
   "source": []
  }
 ],
 "metadata": {
  "kernelspec": {
   "display_name": "Python 3",
   "language": "python",
   "name": "python3"
  },
  "language_info": {
   "codemirror_mode": {
    "name": "ipython",
    "version": 3
   },
   "file_extension": ".py",
   "mimetype": "text/x-python",
   "name": "python",
   "nbconvert_exporter": "python",
   "pygments_lexer": "ipython3",
   "version": "3.5.4"
  }
 },
 "nbformat": 4,
 "nbformat_minor": 2
}
