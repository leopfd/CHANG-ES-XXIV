{
 "cells": [
  {
   "cell_type": "code",
   "execution_count": 3,
   "metadata": {},
   "outputs": [
    {
     "name": "stdout",
     "output_type": "stream",
     "text": [
      "NGC0891 written\n",
      "NGC2683 written\n",
      "NGC2992 written\n",
      "NGC3079 written\n",
      "NGC3432 written\n",
      "NGC3448 written\n",
      "NGC3556 written\n",
      "NGC3628 written\n",
      "NGC3877 written\n",
      "NGC4013 written\n",
      "NGC4096 written\n",
      "NGC4157 written\n",
      "NGC4192 written\n",
      "NGC4217 written\n",
      "NGC4244 written\n",
      "NGC4302 written\n",
      "NGC4388 written\n",
      "NGC4438 written\n",
      "NGC4565 written\n",
      "NGC4594 written\n",
      "NGC4631 written\n",
      "NGC4666 written\n",
      "NGC5084 written\n",
      "NGC5297 written\n",
      "NGC5775 written\n",
      "NGC5907 written\n"
     ]
    }
   ],
   "source": [
    "import os\n",
    "from ciao_contrib.runtool import *\n",
    "import glob\n",
    "import pycrates as pcr\n",
    "from paramio import *\n",
    "from crates_contrib.utils import *\n",
    "import numpy as np\n",
    "import math\n",
    "from astropy import units as u\n",
    "from astropy.coordinates import SkyCoord\n",
    "import pandas as pd\n",
    "\n",
    "objList = sorted(glob.glob('NGC*'))\n",
    "numberList = [660,891,2683,2992,3079,3432,3448,3556,3628,3877,4013,4096,4157,4192,4217,4244,4302,4388,4438,4565,4594,4631,4666,5084,5297,5775,5907]\n",
    "\n",
    "#print(objList)\n",
    "\n",
    "for i in range(len(objList))[1::]:\n",
    "    hrf = pcr.read_file('{}/sources/hardness_ratio.fits'.format(objList[i]))\n",
    "    srcf = pcr.read_file('{}/sources/merged_0.3-7_newerr_src.fits'.format(objList[i]))\n",
    "    source = pcr.get_colvals(hrf, 'COMPONENT')\n",
    "    raPos = pcr.get_colvals(hrf, 'RAPOS')\n",
    "    decPos = pcr.get_colvals(hrf, 'DECPOS')\n",
    "    posError = 60 * pcr.get_colvals(srcf, 'POS_ERR')\n",
    "    softCounts = pcr.get_colvals(hrf, 'SOFT_COUNTS')\n",
    "    softRate = pcr.get_colvals(hrf, 'SOFT_NET_RATE') / 10e-4\n",
    "    softError = pcr.get_colvals(hrf, 'SOFT_NET_RATE_ERR') / 10e-4\n",
    "    mediumCounts = pcr.get_colvals(hrf, 'MEDIUM_COUNTS')\n",
    "    mediumRate = pcr.get_colvals(hrf, 'MEDIUM_NET_RATE') / 10e-4\n",
    "    mediumError = pcr.get_colvals(hrf, 'MEDIUM_NET_RATE_ERR') / 10e-4\n",
    "    hardCounts = pcr.get_colvals(hrf, 'HARD_COUNTS')\n",
    "    hardRate = pcr.get_colvals(hrf, 'HARD_NET_RATE') / 10e-4\n",
    "    hardError = pcr.get_colvals(hrf, 'HARD_NET_RATE_ERR') /10e-4\n",
    "    broadCounts = pcr.get_colvals(hrf, 'BROAD_COUNTS')\n",
    "    broadRate = pcr.get_colvals(hrf, 'BROAD_NET_RATE') / 10e-4\n",
    "    broadError = pcr.get_colvals(hrf, 'BROAD_NET_RATE_ERR') / 10e-4\n",
    "    HR1 = pcr.get_colvals(hrf, 'HARDNESS_RATIO_1')\n",
    "    HR1Error = pcr.get_colvals(hrf, 'HARDNESS_RATIO_1_ERR')\n",
    "    HR2 = pcr.get_colvals(hrf, 'HARDNESS_RATIO_2')\n",
    "    HR2Error = pcr.get_colvals(hrf, 'HARDNESS_RATIO_2_ERR')\n",
    "    \n",
    "    #RA = []\n",
    "    #DEC = []\n",
    "    \n",
    "    #for i in range(len(raPos)):\n",
    "    #    c = SkyCoord(ra=raPos[i], dec=decPos[i], unit='deg')\n",
    "     #   RA.append(c.ra.to_string('hour', precision=2, sep=' '))\n",
    "    #    DEC.append(c.dec.to_string(precision=1, sep=' '))\n",
    "    #print(RA,DEC)\n",
    "\n",
    "    \n",
    "    dict = {'ID': source, 'RA': raPos, 'DEC': decPos, 'delta_x': posError, 'Sft_Cts': softCounts, 'Sft_Rate': softRate, 'E_Sft_Rate': softError, 'Med_Cts': mediumCounts,'Med_Rate': mediumRate, 'E_Med_Rate': mediumError, 'Hrd_Cts': hardCounts, 'Hrd_Rate': hardRate, 'E_Hrd_Rate': hardError, 'Brd_Cts': broadCounts, 'Brd_Rate': broadRate, 'E_Brd_Rate': broadError, 'HR1': HR1, 'E_HR1': HR1Error, 'HR2': HR2, 'E_HR2': HR2Error}\n",
    "    df = pd.DataFrame(dict, columns=['ID','RA','DEC','delta_x','Sft_Cts','Sft_Rate','E_Sft_Rate','Med_Cts','Med_Rate','E_Med_Rate','Hrd_Cts','Hrd_Rate','E_Hrd_Rate','Brd_Cts','Brd_Rate', 'E_Brd_Rate', 'HR1', 'E_HR1', 'HR2', 'E_HR2'])\n",
    "    df.to_csv('csv_files/{}_xray_src.csv'.format(objList[i], objList[i]))\n",
    "    print('{} written'.format(objList[i]))"
   ]
  },
  {
   "cell_type": "code",
   "execution_count": null,
   "metadata": {},
   "outputs": [],
   "source": []
  }
 ],
 "metadata": {
  "kernelspec": {
   "display_name": "Python 3 (ipykernel)",
   "language": "python",
   "name": "python3"
  },
  "language_info": {
   "codemirror_mode": {
    "name": "ipython",
    "version": 3
   },
   "file_extension": ".py",
   "mimetype": "text/x-python",
   "name": "python",
   "nbconvert_exporter": "python",
   "pygments_lexer": "ipython3",
   "version": "3.11.5"
  }
 },
 "nbformat": 4,
 "nbformat_minor": 4
}
