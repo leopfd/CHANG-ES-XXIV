{
 "cells": [
  {
   "cell_type": "code",
   "execution_count": 1,
   "metadata": {
    "scrolled": false
   },
   "outputs": [
    {
     "name": "stdout",
     "output_type": "stream",
     "text": [
      "\u001b[1mRUNNING NGC4594\u001b[0m\n",
      "['NGC4594/1586/repro/1586_reproj_evt.fits', 'NGC4594/407/repro/407_reproj_evt.fits', 'NGC4594/9532/repro/9532_reproj_evt.fits', 'NGC4594/9533/repro/9533_reproj_evt.fits']\n",
      "RUNNING NGC4594/1586/repro/1586_reproj_evt.fits\n",
      "['NGC4594/sources/1586_offaxs_ang.fits']\n",
      "RUNNING NGC4594/407/repro/407_reproj_evt.fits\n",
      "['NGC4594/sources/1586_offaxs_ang.fits', 'NGC4594/sources/407_offaxs_ang.fits']\n",
      "RUNNING NGC4594/9532/repro/9532_reproj_evt.fits\n",
      "['NGC4594/sources/1586_offaxs_ang.fits', 'NGC4594/sources/407_offaxs_ang.fits', 'NGC4594/sources/9532_offaxs_ang.fits']\n",
      "RUNNING NGC4594/9533/repro/9533_reproj_evt.fits\n",
      "['NGC4594/sources/1586_offaxs_ang.fits', 'NGC4594/sources/407_offaxs_ang.fits', 'NGC4594/sources/9532_offaxs_ang.fits', 'NGC4594/sources/9533_offaxs_ang.fits']\n",
      "\n",
      "\n",
      "\n",
      "\n",
      "\n"
     ]
    }
   ],
   "source": [
    "import os\n",
    "from ciao_contrib.runtool import *\n",
    "import glob\n",
    "import pycrates as pcr\n",
    "from paramio import *\n",
    "from crates_contrib.utils import *\n",
    "from astropy.io import fits\n",
    "import numpy as np\n",
    "\n",
    "objList=sorted(glob.glob(\"NGC*\"))\n",
    "#reprojList = [\"NGC0660/15587/repro/15587_reproj_evt.fits\",\"NGC0891/4613/repro/4613_reproj_evt.fits\",\"NGC2683/11311/repro/11311_reproj_evt.fits\",\"NGC2992/3956/repro/3956_reproj_evt.fits\",\"NGC3079/19307/repro/19307_reproj_evt.fits\",\"NGC3432/7091/repro/7091_reproj_evt.fits\",\"NGC3448/19360/repro/19360_reproj_evt.fits\",\"NGC3556/2025/repro/2025_reproj_evt.fits\",\"NGC3628/2039/repro/2039_reproj_evt.fits\",\"NGC3877/1971/repro/1971_reproj_evt.fits\",\"NGC4013/4739/repro/4739_reproj_evt.fits\",\"NGC4096/19345/repro/19345_reproj_evt.fits\",\"NGC4157/11310/repro/11310_reproj_evt.fits\",\"NGC4192/19390/repro/19390_reproj_evt.fits\",\"NGC4217/4738/repro/4738_reproj_evt.fits\",\"NGC4244/942/repro/942_reproj_evt.fits\",\"NGC4302/19392/repro/19392_reproj_evt.fits\",\"NGC4388/12291/repro/12291_reproj_evt.fits\",\"NGC4438/2883/repro/2883_reproj_evt.fits\",\"NGC4565/3950/repro/3950_reproj_evt.fits\",\"NGC4594/9533/repro/9533_reproj_evt.fits\",\"NGC4631/797/repro/797_reproj_evt.fits\",\"NGC4666/4018/repro/4018_reproj_evt.fits\",\"NGC5084/12173/repro/12173_reproj_evt.fits\",\"NGC5297/19370/repro/19370_reproj_evt.fits\",\"NGC5775/2940/repro/2940_reproj_evt.fits\",\"NGC5907/20830/repro/20830_reproj_evt.fits\",]\n",
    "#print(objList)\n",
    "\n",
    "for obj in objList[20:21:]:\n",
    "    print('\\033[1m' + \"RUNNING {}\".format(obj) + '\\033[0m')\n",
    "    cr = pcr.read_file('{}/sources/merged_0.3-7_src.fits'.format(obj))\n",
    "    #print(cr)\n",
    "    xcoord = pcr.get_colvals(cr, 'RA')\n",
    "    ycoord = pcr.get_colvals(cr, 'DEC')\n",
    "    #print(xcoord,ycoord)\n",
    "    reprojList = glob.glob(\"{}/*/*/*reproj*\".format(obj))\n",
    "    print(reprojList)\n",
    "    pastefile = []\n",
    "    for reproj in reprojList:\n",
    "        names = reproj.split(\"/\")\n",
    "        obsid = names[1]\n",
    "        print(\"RUNNING {}\".format(reproj))\n",
    "        dmcoordsout = []\n",
    "        dmcoords.punlearn()\n",
    "        dmcoords.infile=(\"{}\".format(reproj))\n",
    "        for x,y in zip(xcoord,ycoord):\n",
    "            #print(x,y) \n",
    "            dmcoords.opt=\"cel\"\n",
    "            dmcoords.celfmt=\"deg\"\n",
    "            dmcoords.ra=x\n",
    "            dmcoords.dec=y\n",
    "            #print(dmcoords)\n",
    "            dmcoords (infile=(\"{}\".format(reproj)))\n",
    "            #checking if a source is within an obsid \n",
    "            if dmcoords.chipx < 0 or dmcoords.chipx > 1024 or dmcoords.chipy < 0 or dmcoords.chipy > 1024:\n",
    "                dmcoordsout.append(0)\n",
    "            else:\n",
    "                dmcoordsout.append(dmcoords.theta)\n",
    "            #print(dmcoords.theta)\n",
    "        #print(dmcoordsout)\n",
    "        cr = make_table_crate(dmcoordsout,colnames=['{}_OFFAXS_ANG'.format(obsid)])\n",
    "        offaxsang = cr.get_column('{}_OFFAXS_ANG'.format(obsid))\n",
    "        offaxsang.unit = 'arcmin'\n",
    "        pcr.write_file(cr,\"{}/sources/{}_offaxs_ang.fits\".format(obj,obsid),clobber=True)\n",
    "        pastefile.append(\"{}/sources/{}_offaxs_ang.fits\".format(obj,obsid))\n",
    "        print(pastefile)\n",
    "    dmpaste (infile=\"{}/sources/merged_0.3-7_src.fits[SRCLIST]\".format(obj),pastefile=pastefile,outfile=\"{}/sources/merged_0.3-7_offaxs_src.fits\".format(obj),clobber=True)\n",
    "    print(\"\")\n",
    "    print(\"\")\n",
    "    print(\"\")\n",
    "    print(\"\")\n",
    "    print(\"\")\n",
    "    \n"
   ]
  },
  {
   "cell_type": "code",
   "execution_count": 296,
   "metadata": {},
   "outputs": [
    {
     "data": {
      "text/plain": [
       "'/Users/leo/Wang_Data'"
      ]
     },
     "execution_count": 296,
     "metadata": {},
     "output_type": "execute_result"
    }
   ],
   "source": [
    "pwd"
   ]
  },
  {
   "cell_type": "code",
   "execution_count": null,
   "metadata": {},
   "outputs": [],
   "source": []
  }
 ],
 "metadata": {
  "kernelspec": {
   "display_name": "Python 3",
   "language": "python",
   "name": "python3"
  },
  "language_info": {
   "codemirror_mode": {
    "name": "ipython",
    "version": 3
   },
   "file_extension": ".py",
   "mimetype": "text/x-python",
   "name": "python",
   "nbconvert_exporter": "python",
   "pygments_lexer": "ipython3",
   "version": "3.5.4"
  }
 },
 "nbformat": 4,
 "nbformat_minor": 2
}
