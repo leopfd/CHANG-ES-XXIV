{
 "cells": [
  {
   "cell_type": "code",
   "execution_count": 4,
   "metadata": {},
   "outputs": [
    {
     "name": "stdout",
     "output_type": "stream",
     "text": [
      "running NGC4594\n",
      "['NGC4594/1586/repro/acisf01586_repro_evt2.fits', 'NGC4594/407/repro/acisf00407_repro_evt2.fits', 'NGC4594/9532/repro/acisf09532_repro_evt2.fits', 'NGC4594/9533/repro/acisf09533_repro_evt2.fits']\n",
      "finished NGC4594\n"
     ]
    }
   ],
   "source": [
    "import os\n",
    "from ciao_contrib.runtool import *\n",
    "import glob\n",
    "\n",
    "fileList = sorted(glob.glob(\"NGC*\"))\n",
    "#print(fileList)\n",
    "\n",
    "for file in fileList[20:21:]:\n",
    "    print(\"running {}\".format(file))\n",
    "    obsList = glob.glob(\"{}/*/*/*evt2.fits\".format(file))\n",
    "    print(obsList)\n",
    "    merge_obs.punlearn\n",
    "    merge_obs.bands=\"0.3:7:2.3\"\n",
    "    merge_obs.binsize=1\n",
    "    merge_obs.psfecf=0.5\n",
    "    merge_obs.psfmerge=\"exptime\"\n",
    "    if file == \"NGC4594\" or \"NGC5084\":\n",
    "        merge_obs (infile=obsList, outroot=\"{}/flux/\".format(file), clob=True)\n",
    "    else:\n",
    "        merge_obs (infile=[i + \"[ccd_id=6:8]\" for i in obsList], outroot=\"{}/flux/\".format(file))\n",
    "    os.rename((\"{}/flux/0.3-7_flux.img\".format(file)), (\"{}/flux/merged_0.3-7_flux.img\".format(file)))\n",
    "    os.rename((\"{}/flux/0.3-7_thresh.expmap\".format(file)), (\"{}/flux/merged_0.3-7_thresh.expmap\".format(file)))\n",
    "    os.rename((\"{}/flux/0.3-7_thresh.img\".format(file)), (\"{}/flux/merged_0.3-7_thresh.img\".format(file)))\n",
    "    os.rename((\"{}/flux/0.3-7_thresh.psfmap\".format(file)), (\"{}/flux/merged_0.3-7_thresh.psfmap\".format(file)))\n",
    "    print(\"finished {}\".format(file))"
   ]
  },
  {
   "cell_type": "code",
   "execution_count": 32,
   "metadata": {},
   "outputs": [
    {
     "name": "stdout",
     "output_type": "stream",
     "text": [
      "/Users/leo/Wang_Data\n"
     ]
    }
   ],
   "source": [
    "cd Wang_Data/"
   ]
  },
  {
   "cell_type": "code",
   "execution_count": null,
   "metadata": {},
   "outputs": [],
   "source": []
  }
 ],
 "metadata": {
  "kernelspec": {
   "display_name": "Python 3",
   "language": "python",
   "name": "python3"
  },
  "language_info": {
   "codemirror_mode": {
    "name": "ipython",
    "version": 3
   },
   "file_extension": ".py",
   "mimetype": "text/x-python",
   "name": "python",
   "nbconvert_exporter": "python",
   "pygments_lexer": "ipython3",
   "version": "3.5.4"
  }
 },
 "nbformat": 4,
 "nbformat_minor": 2
}
