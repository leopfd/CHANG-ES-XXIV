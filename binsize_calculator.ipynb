{
 "cells": [
  {
   "cell_type": "code",
   "execution_count": 10,
   "metadata": {
    "scrolled": false
   },
   "outputs": [],
   "source": [
    "from ciao_contrib.runtool import *"
   ]
  },
  {
   "cell_type": "code",
   "execution_count": 37,
   "metadata": {
    "scrolled": false
   },
   "outputs": [
    {
     "name": "stdout",
     "output_type": "stream",
     "text": [
      "'x=3369:4507,y=3230:4368'\n"
     ]
    }
   ],
   "source": [
    "x = 3937.6255\n",
    "y = 3798.7179\n",
    "d = 1137.8049\n",
    "\n",
    "lox = x - (d/2)\n",
    "hix = lox + d\n",
    "loy = y - (d/2)\n",
    "hiy = loy + d\n",
    "string = \"'x={}:{},y={}:{}'\".format(round(lox,0),round(hix,0),round(loy,0),round(hiy,0))\n",
    "print(string.replace('.0',''))"
   ]
  },
  {
   "cell_type": "code",
   "execution_count": null,
   "metadata": {},
   "outputs": [],
   "source": [
    "dmcopy(infile = file.example, outfile = file.example)"
   ]
  },
  {
   "cell_type": "code",
   "execution_count": null,
   "metadata": {},
   "outputs": [],
   "source": []
  }
 ],
 "metadata": {
  "kernelspec": {
   "display_name": "Python 3",
   "language": "python",
   "name": "python3"
  },
  "language_info": {
   "codemirror_mode": {
    "name": "ipython",
    "version": 3
   },
   "file_extension": ".py",
   "mimetype": "text/x-python",
   "name": "python",
   "nbconvert_exporter": "python",
   "pygments_lexer": "ipython3",
   "version": "3.5.4"
  }
 },
 "nbformat": 4,
 "nbformat_minor": 2
}
