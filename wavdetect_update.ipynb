{
 "cells": [
  {
   "cell_type": "code",
   "execution_count": 10,
   "metadata": {
    "scrolled": true
   },
   "outputs": [
    {
     "name": "stdout",
     "output_type": "stream",
     "text": [
      "['NGC0660', 'NGC0891', 'NGC2683', 'NGC2992', 'NGC3079', 'NGC3432', 'NGC3448', 'NGC3556', 'NGC3628', 'NGC3877', 'NGC4013', 'NGC4096', 'NGC4157', 'NGC4192', 'NGC4217', 'NGC4244', 'NGC4302', 'NGC4388', 'NGC4438', 'NGC4565', 'NGC4594', 'NGC4594Test', 'NGC4631', 'NGC4666', 'NGC5084', 'NGC5297', 'NGC5775', 'NGC5907']\n",
      "running NGC4594\n",
      "0.01\n",
      "finished NGC4594\n"
     ]
    }
   ],
   "source": [
    "import os\n",
    "from ciao_contrib.runtool import *\n",
    "from ciao_contrib._tools import fileio\n",
    "import glob\n",
    "import numpy\n",
    "from paramio import *\n",
    "\n",
    "fileList = sorted(glob.glob(\"NGC*\"))\n",
    "#print(fileList)\n",
    "\n",
    "os.chdir(\"/Volumes/Leo_HDD/Wang_Data\")\n",
    "\n",
    "for file in fileList [20:21:]:\n",
    "    print(\"running {}\".format(file))\n",
    "    kw = fileio.get_keys_from_file(\"{}/flux/merged_0.3-7_flux.img\".format(file))\n",
    "    kw[\"__SHAPE\"]\n",
    "    #print(kw[\"__SHAPE\"])\n",
    "    sigval = 1/(numpy.prod(kw[\"__SHAPE\"]))\n",
    "    #print(sigval)\n",
    "    os.chdir(\"{}\".format(file))\n",
    "    #print(os.getcwd())\n",
    "    os.mkdir (\"sources\")\n",
    "    wavdetect.punlearn()\n",
    "    if file == \"NGC4013\" or file == \"NGC4594\":\n",
    "        wavdetect.expthresh=0.01\n",
    "    print(wavdetect.expthresh)\n",
    "    wavdetect.infile=\"flux/merged_0.3-7_thresh.img\"\n",
    "    wavdetect.outfile=\"sources/merged_0.3-7_src.fits\"\n",
    "    wavdetect.scellfile=\"sources/merged_0.3-7_scell.fits\"\n",
    "    wavdetect.imagefile=\"sources/merged_0.3-7_imgfile.fits\"\n",
    "    wavdetect.defnbkgfile=\"sources/merged_0.3-7_nbgd.fits\"\n",
    "    wavdetect.scales=\"1.0 1.414 2.0 2.828 4.0 5.657 8.0 11.314 16.0\"\n",
    "    wavdetect.sigthresh=sigval\n",
    "    wavdetect.maxiter=9\n",
    "    wavdetect.psffile=\"flux/merged_0.3-7_thresh.psfmap\"\n",
    "    wavdetect.regfile=\"sources/merged_0.3-7_src.reg\"\n",
    "    wavdetect.expfile=\"flux/merged_0.3-7_thresh.expmap\"\n",
    "    wavdetect (infile=\"flux/merged_0.3-7_thresh.img\", outfile=\"sources/merged_0.3-7_src.fits\", scellfile=\"sources/merged_0.3-7_scell.fits\", imagefile=\"sources/merged_0.3-7_imgfile.fits\", defnbkgfile=\"sources/merged_0.3-7_nbgd.fits\", scales=\"1.0 1.414 2.0 2.828 4.0 5.657 8.0 11.314 16.0\", psffile=\"flux/merged_0.3-7_thresh.psfmap\",clob=\"yes\")\n",
    "    os.chdir(\"..\")\n",
    "    #print(plist(\"wavdetect\"))\n",
    "    #print(os.getcwd())\n",
    "    print(\"finished {}\".format(file))"
   ]
  },
  {
   "cell_type": "code",
   "execution_count": 9,
   "metadata": {
    "scrolled": true
   },
   "outputs": [
    {
     "data": {
      "text/plain": [
       "'/Volumes/Leo_HDD/Wang_Data'"
      ]
     },
     "execution_count": 9,
     "metadata": {},
     "output_type": "execute_result"
    }
   ],
   "source": [
    "pwd"
   ]
  },
  {
   "cell_type": "code",
   "execution_count": 8,
   "metadata": {},
   "outputs": [],
   "source": [
    "os.chdir('Wang_Data/')"
   ]
  },
  {
   "cell_type": "code",
   "execution_count": null,
   "metadata": {},
   "outputs": [],
   "source": []
  }
 ],
 "metadata": {
  "kernelspec": {
   "display_name": "Python 3 (ipykernel)",
   "language": "python",
   "name": "python3"
  },
  "language_info": {
   "codemirror_mode": {
    "name": "ipython",
    "version": 3
   },
   "file_extension": ".py",
   "mimetype": "text/x-python",
   "name": "python",
   "nbconvert_exporter": "python",
   "pygments_lexer": "ipython3",
   "version": "3.11.5"
  }
 },
 "nbformat": 4,
 "nbformat_minor": 4
}
