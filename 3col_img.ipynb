{
 "cells": [
  {
   "cell_type": "code",
   "execution_count": 5,
   "metadata": {
    "scrolled": false
   },
   "outputs": [
    {
     "name": "stdout",
     "output_type": "stream",
     "text": [
      "ds9 -scale log -rgb -red NGC0660/flux/red_csm.img -green NGC0660/flux/green_csm.img -blue NGC0660/flux/blue_csm.img\n",
      "\n",
      "ds9 -scale log -rgb -red NGC0891/flux/red_csm.img -green NGC0891/flux/green_csm.img -blue NGC0891/flux/blue_csm.img\n",
      "\n",
      "ds9 -scale log -rgb -red NGC2683/flux/red_csm.img -green NGC2683/flux/green_csm.img -blue NGC2683/flux/blue_csm.img\n",
      "\n",
      "ds9 -scale log -rgb -red NGC2992/flux/red_csm.img -green NGC2992/flux/green_csm.img -blue NGC2992/flux/blue_csm.img\n",
      "\n",
      "ds9 -scale log -rgb -red NGC3079/flux/red_csm.img -green NGC3079/flux/green_csm.img -blue NGC3079/flux/blue_csm.img\n",
      "\n",
      "ds9 -scale log -rgb -red NGC3432/flux/red_csm.img -green NGC3432/flux/green_csm.img -blue NGC3432/flux/blue_csm.img\n",
      "\n",
      "ds9 -scale log -rgb -red NGC3448/flux/red_csm.img -green NGC3448/flux/green_csm.img -blue NGC3448/flux/blue_csm.img\n",
      "\n",
      "ds9 -scale log -rgb -red NGC3556/flux/red_csm.img -green NGC3556/flux/green_csm.img -blue NGC3556/flux/blue_csm.img\n",
      "\n",
      "ds9 -scale log -rgb -red NGC3628/flux/red_csm.img -green NGC3628/flux/green_csm.img -blue NGC3628/flux/blue_csm.img\n",
      "\n",
      "ds9 -scale log -rgb -red NGC3877/flux/red_csm.img -green NGC3877/flux/green_csm.img -blue NGC3877/flux/blue_csm.img\n",
      "\n",
      "ds9 -scale log -rgb -red NGC4013/flux/red_csm.img -green NGC4013/flux/green_csm.img -blue NGC4013/flux/blue_csm.img\n",
      "\n",
      "ds9 -scale log -rgb -red NGC4096/flux/red_csm.img -green NGC4096/flux/green_csm.img -blue NGC4096/flux/blue_csm.img\n",
      "\n",
      "ds9 -scale log -rgb -red NGC4157/flux/red_csm.img -green NGC4157/flux/green_csm.img -blue NGC4157/flux/blue_csm.img\n",
      "\n",
      "ds9 -scale log -rgb -red NGC4192/flux/red_csm.img -green NGC4192/flux/green_csm.img -blue NGC4192/flux/blue_csm.img\n",
      "\n",
      "ds9 -scale log -rgb -red NGC4217/flux/red_csm.img -green NGC4217/flux/green_csm.img -blue NGC4217/flux/blue_csm.img\n",
      "\n",
      "ds9 -scale log -rgb -red NGC4244/flux/red_csm.img -green NGC4244/flux/green_csm.img -blue NGC4244/flux/blue_csm.img\n",
      "\n",
      "ds9 -scale log -rgb -red NGC4302/flux/red_csm.img -green NGC4302/flux/green_csm.img -blue NGC4302/flux/blue_csm.img\n",
      "\n",
      "ds9 -scale log -rgb -red NGC4388/flux/red_csm.img -green NGC4388/flux/green_csm.img -blue NGC4388/flux/blue_csm.img\n",
      "\n",
      "ds9 -scale log -rgb -red NGC4438/flux/red_csm.img -green NGC4438/flux/green_csm.img -blue NGC4438/flux/blue_csm.img\n",
      "\n",
      "ds9 -scale log -rgb -red NGC4565/flux/red_csm.img -green NGC4565/flux/green_csm.img -blue NGC4565/flux/blue_csm.img\n",
      "\n",
      "ds9 -scale log -rgb -red NGC4594/flux/red_csm.img -green NGC4594/flux/green_csm.img -blue NGC4594/flux/blue_csm.img\n",
      "\n",
      "ds9 -scale log -rgb -red NGC4631/flux/red_csm.img -green NGC4631/flux/green_csm.img -blue NGC4631/flux/blue_csm.img\n",
      "\n",
      "ds9 -scale log -rgb -red NGC4666/flux/red_csm.img -green NGC4666/flux/green_csm.img -blue NGC4666/flux/blue_csm.img\n",
      "\n",
      "ds9 -scale log -rgb -red NGC5084/flux/red_csm.img -green NGC5084/flux/green_csm.img -blue NGC5084/flux/blue_csm.img\n",
      "\n",
      "ds9 -scale log -rgb -red NGC5297/flux/red_csm.img -green NGC5297/flux/green_csm.img -blue NGC5297/flux/blue_csm.img\n",
      "\n",
      "ds9 -scale log -rgb -red NGC5775/flux/red_csm.img -green NGC5775/flux/green_csm.img -blue NGC5775/flux/blue_csm.img\n",
      "\n",
      "ds9 -scale log -rgb -red NGC5907/flux/red_csm.img -green NGC5907/flux/green_csm.img -blue NGC5907/flux/blue_csm.img\n",
      "\n"
     ]
    }
   ],
   "source": [
    "import os\n",
    "import os.path\n",
    "from ciao_contrib.runtool import *\n",
    "import glob\n",
    "import pycrates as pcr\n",
    "from paramio import *\n",
    "from crates_contrib.utils import *\n",
    "import numpy as np\n",
    "from astropy import units as u\n",
    "from astropy.coordinates import SkyCoord\n",
    "\n",
    "objList = sorted(glob.glob('NGC*'))\n",
    "#colorList = ['soft','medium','hard']\n",
    "#energyList = ['300:1200','1200:2000','2000:7000']\n",
    "sizeList = ['x=3598:4613,y=3651:4666','x=3185:4830,y=3382:5027','x=3369:4507,y=3230:4368','x=4271:4704,y=3945:4377','x=3571:4540,y=3624:4592','x=3631:4455,y=3953:4778','x=3724:4409,y=3785:4470','x=3819:4881,y=3580:4643','x=3262:5066,y=3075:4879','x=3734:4405,y=3827:4498','x=3689:4329,y=3625:4266','x=3603:4409,y=3572:4378','x=3766:4590,y=4163:4987','x=3497:4689,y=3448:4640','x=3618:4258,y=3576:4216','x=2908:4932,y=3276:5301','x=3604:4275,y=3784:4455','x=3727:4412,y=3772:4458','x=3506:4544,y=3271:4309','x=3081:5014,y=3103:5036','x=3832:4389,y=3798:4355','x=2871:4760,y=3235:5124','x=3855:4412,y=3753:4310','x=3517:4655,y=3583:4721','x=3784:4470,y=3720:4406','x=3828:4336,y=3769:4278','x=3393:4929,y=3496:5033']\n",
    "\n",
    "i = 0\n",
    "\n",
    "for obj in objList[::]:\n",
    "#    print('RUNNING {}'.format(obj))\n",
    "#    dmcopy.punlearn\n",
    "#    dmcopy(infile = '{}/flux/merged_evt.fits[energy=300:1200][bin {}]'.format(obj,sizeList[i]),outfile = '{}/flux/soft_img.fits'.format(obj),clobber=True)\n",
    "#    dmcopy.punlearn\n",
    "#    dmcopy(infile = '{}/flux/merged_evt.fits[energy=1200:2000][bin {}]'.format(obj,sizeList[i]),outfile = '{}/flux/medium_img.fits'.format(obj),clobber=True)\n",
    "#    dmcopy.punlearn\n",
    "#    dmcopy(infile = '{}/flux/merged_evt.fits[energy=2000:7000][bin {}]'.format(obj,sizeList[i]),outfile = '{}/flux/hard_img.fits'.format(obj),clobber=True)\n",
    "    \n",
    "    \n",
    "#    print('starting smoothing')\n",
    "#    csmooth.punlearn\n",
    "#    csmooth.sigmin = 3\n",
    "#    csmooth.sigmax = 4\n",
    "#    csmooth.stepzero = 0.001\n",
    "#    csmooth(infile='{}/flux/soft_img.fits'.format(obj),outfile='{}/flux/red_csm.img'.format(obj),outsig='{}/flux/red_sig.img'.format(obj),outscl='{}/flux/red_scl.img'.format(obj),clob=True)\n",
    "#    print('finished red')\n",
    "#    csmooth(infile='{}/flux/medium_img.fits'.format(obj),outfile='{}/flux/green_csm.img'.format(obj),outsig='{}/flux/green_sig.img'.format(obj),outscl='{}/flux/green_scl.img'.format(obj),clob=True)\n",
    "#    print('finished green')\n",
    "#    csmooth(infile='{}/flux/hard_img.fits'.format(obj),outfile='{}/flux/blue_csm.img'.format(obj),outsig='{}/flux/blue_sig.img'.format(obj),outscl='{}/flux/blue_scl.img'.format(obj),clob=True)\n",
    "#    print('finished blue')\n",
    "    redFile = \"{}/flux/red_csm.img\".format(obj)\n",
    "    greenFile = \"{}/flux/green_csm.img\".format(obj)\n",
    "    blueFile = \"{}/flux/blue_csm.img\".format(obj)\n",
    "#    print('finished smoothing')\n",
    "    print(\"ds9 -scale log -rgb -red {} -green {} -blue {}\".format(redFile,greenFile,blueFile))\n",
    "#    print('FINISHED {}'.format(obj))\n",
    "    print('')\n",
    "    i = i+1"
   ]
  },
  {
   "cell_type": "code",
   "execution_count": 20,
   "metadata": {},
   "outputs": [
    {
     "data": {
      "text/plain": [
       "'/Volumes/Leo_HDD/Wang_Data'"
      ]
     },
     "execution_count": 20,
     "metadata": {},
     "output_type": "execute_result"
    }
   ],
   "source": [
    "pwd"
   ]
  },
  {
   "cell_type": "code",
   "execution_count": null,
   "metadata": {},
   "outputs": [],
   "source": []
  }
 ],
 "metadata": {
  "kernelspec": {
   "display_name": "Python 3",
   "language": "python",
   "name": "python3"
  },
  "language_info": {
   "codemirror_mode": {
    "name": "ipython",
    "version": 3
   },
   "file_extension": ".py",
   "mimetype": "text/x-python",
   "name": "python",
   "nbconvert_exporter": "python",
   "pygments_lexer": "ipython3",
   "version": "3.5.4"
  }
 },
 "nbformat": 4,
 "nbformat_minor": 2
}
