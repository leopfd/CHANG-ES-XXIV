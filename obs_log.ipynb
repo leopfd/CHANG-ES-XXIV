{
 "cells": [
  {
   "cell_type": "code",
   "execution_count": 1,
   "metadata": {
    "scrolled": true
   },
   "outputs": [],
   "source": [
    "import glob\n",
    "import os\n",
    "from astropy import units as u\n",
    "from astropy.coordinates import SkyCoord\n",
    "from ciao_contrib.runtool import *\n",
    "from paramio import *"
   ]
  },
  {
   "cell_type": "code",
   "execution_count": 2,
   "metadata": {},
   "outputs": [
    {
     "name": "stdout",
     "output_type": "stream",
     "text": [
      "/Volumes/Leo_HDD/Wang_Data\n"
     ]
    }
   ],
   "source": [
    "cd /Volumes/Leo_HDD/Wang_Data"
   ]
  },
  {
   "cell_type": "code",
   "execution_count": 6,
   "metadata": {},
   "outputs": [
    {
     "name": "stdout",
     "output_type": "stream",
     "text": [
      "NGC 660 2012-12-18T00:40:17\n",
      "NGC 660 2012-11-20T16:36:29\n",
      "NGC 660 2001-01-28T01:33:25\n",
      "NGC 660 2015-08-26T20:12:54\n",
      "NGC 660 2003-02-12T22:07:37\n",
      "NGC 891 ULX1 2011-12-20T06:56:09\n",
      "SN 1986J 2016-11-14T19:25:36\n",
      "SN 1986J 2003-12-10T09:06:22\n",
      "NGC 891 2000-11-01T18:35:40\n",
      "NGC 2683 2011-01-05T17:48:09\n",
      "NGC 2683 2000-10-26T07:22:54\n",
      "NGC2992 2003-02-16T17:38:59\n",
      "NGC3079 2018-01-30T21:07:33\n",
      "NGC 3079 2001-03-07T07:48:39\n",
      "NGC3079 2018-02-01T03:14:06\n",
      "NGC 3432 2006-06-25T10:05:27\n",
      "NGC 3448 2018-03-04T02:09:33\n",
      "NGC 3556 2001-09-08T13:57:06\n",
      "NGC 3628 2000-12-02T06:18:56\n",
      "NGC 3628 1999-11-03T07:24:41\n",
      "SN 1998S 2001-01-14T19:27:35\n",
      "SN 1998S 2001-10-17T03:02:24\n",
      "SN1998S 2000-01-10T18:23:09\n",
      "SN1998S 2000-03-07T19:22:28\n",
      "SN1998S 2000-08-01T06:51:11\n",
      "NGC4013 2003-03-16T17:10:09\n",
      "NGC 4013 2004-02-03T09:32:20\n",
      "NGC 4096 2017-11-01T07:14:31\n",
      "NGC 4096 2006-02-18T16:31:39\n",
      "NGC 4157 2010-08-21T13:40:00\n",
      "NGC 4192 2017-11-04T08:09:14\n",
      "NGC 4217 2004-02-19T06:23:27\n",
      "NGC 4244 2000-05-20T12:48:09\n",
      "NGC 4302 2018-04-09T10:33:59\n",
      "NGC 4298 2018-04-09T14:45:43\n",
      "NGC 4388 2011-12-07T02:08:31\n",
      "NGC4388 2001-06-08T04:31:04\n",
      "NGC 4438 2002-01-29T17:23:49\n",
      "1030 2008-02-11T19:57:10\n",
      "NGC 4565 2003-02-08T19:10:57\n",
      "NGC 4565 2000-06-30T03:06:33\n",
      "NGC4594 2001-05-31T03:58:11\n",
      "NGC 4594 1999-12-20T14:23:50\n",
      "Sombrero 2008-04-29T19:55:44\n",
      "Sombrero 2008-12-02T12:50:27\n",
      "NGC 4631 2000-04-16T16:55:19\n",
      "NGC4666 2003-02-14T03:37:15\n",
      "LGG345 2011-08-22T12:10:36\n",
      "NGC 5297 2017-10-25T13:17:23\n",
      "NGC 5775 2002-04-05T13:41:34\n",
      "2XMM J151558.6+561810 2012-02-11T05:02:09\n",
      "2XMM J151558.6+561810 2012-02-11T22:21:32\n",
      "NGC 5907 ULX 2017-11-07T05:53:47\n",
      "NGC5907 ULX1 2018-02-27T13:25:52\n",
      "NGC5907 ULX1 2018-03-01T04:22:01\n"
     ]
    }
   ],
   "source": [
    "fileList = sorted(glob.glob(\"*/*/*/*evt2.fits\"))\n",
    "#print(fileList)\n",
    "\n",
    "for file in fileList[:]:\n",
    "    OBJECT = dmkeypar(file, keyword = 'OBJECT', echo = 'yes')\n",
    "    OBS_ID = dmkeypar(file, keyword = 'OBS_ID', echo = 'yes')\n",
    "    RA_PNT = dmkeypar(file, keyword = 'RA_PNT', echo = 'yes') # hh mm s\n",
    "    DEC_PNT = dmkeypar(file, keyword = 'DEC_PNT', echo = 'yes') # dd mm s\n",
    "    INSTRUME = dmkeypar(file, keyword = 'INSTRUME', echo = 'yes')\n",
    "    LIVETIME = dmkeypar(file, keyword = 'LIVETIME', echo = 'yes') #integer\n",
    "    ROLL_PNT = dmkeypar(file, keyword = 'ROLL_PNT', echo = 'yes') #integer\n",
    "    DATEOBS = dmkeypar(file, keyword = 'DATE-OBS', echo = 'yes') #year-mo-dd\n",
    "    EXPTIME = dmkeypar(file, keyword = 'EXPTIME', echo = 'yes')\n",
    "    DETNAM = dmkeypar(file, keyword = 'DETNAM', echo = 'yes')\n",
    "    GRATING = dmkeypar(file, keyword = 'GRATING', echo = 'yes')\n",
    "    dmcoords.punlearn()\n",
    "    dmcoords(file, ra=RA_PNT, dec=DEC_PNT)\n",
    "    CHIP_ID = pget('dmcoords','chip_id')\n",
    "    c = SkyCoord(ra=RA_PNT, dec=DEC_PNT, unit='deg')\n",
    "    #string = OBJECT + ' & ' + OBS_ID + ' & ' + c.ra.to_string('hour', precision=1, sep=' ') + ' & ' + c.dec.to_string(precision=0, sep=' ') + ' & ' + str(int(float(ROLL_PNT))) + ' & ' + str(int(float(LIVETIME))) + ' & ' + DATEOBS[0:10] + ' \\\\' + '\\\\'\n",
    "    print(OBJECT, DATEOBS)"
   ]
  },
  {
   "cell_type": "code",
   "execution_count": null,
   "metadata": {},
   "outputs": [],
   "source": []
  },
  {
   "cell_type": "code",
   "execution_count": null,
   "metadata": {},
   "outputs": [],
   "source": []
  }
 ],
 "metadata": {
  "kernelspec": {
   "display_name": "Python 3 (ipykernel)",
   "language": "python",
   "name": "python3"
  },
  "language_info": {
   "codemirror_mode": {
    "name": "ipython",
    "version": 3
   },
   "file_extension": ".py",
   "mimetype": "text/x-python",
   "name": "python",
   "nbconvert_exporter": "python",
   "pygments_lexer": "ipython3",
   "version": "3.11.5"
  }
 },
 "nbformat": 4,
 "nbformat_minor": 4
}
